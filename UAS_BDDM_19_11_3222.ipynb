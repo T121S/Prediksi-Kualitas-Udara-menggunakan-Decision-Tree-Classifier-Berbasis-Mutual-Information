{
  "nbformat": 4,
  "nbformat_minor": 0,
  "metadata": {
    "colab": {
      "provenance": []
    },
    "kernelspec": {
      "name": "python3",
      "display_name": "Python 3"
    },
    "language_info": {
      "name": "python"
    }
  },
  "cells": [
    {
      "cell_type": "code",
      "execution_count": 43,
      "metadata": {
        "id": "rv4EKeMxjfP1"
      },
      "outputs": [],
      "source": [
        "#import library\n",
        "import pandas as pd\n",
        "import numpy as np\n",
        "import seaborn as sns\n",
        "import matplotlib.pyplot as plt"
      ]
    },
    {
      "cell_type": "code",
      "source": [
        "# Import scikit-learn modules\n",
        "from sklearn.model_selection import train_test_split"
      ],
      "metadata": {
        "id": "R3vAhep-lFVL"
      },
      "execution_count": 61,
      "outputs": []
    },
    {
      "cell_type": "code",
      "source": [
        "# Model and evaluation metrics\n",
        "from sklearn.ensemble import RandomForestClassifier\n",
        "from sklearn.metrics import accuracy_score, precision_score, recall_score, f1_score"
      ],
      "metadata": {
        "id": "W4iiweMElRQ1"
      },
      "execution_count": 46,
      "outputs": []
    },
    {
      "cell_type": "code",
      "source": [
        "df = pd.read_csv('updated_pollution_dataset.csv')"
      ],
      "metadata": {
        "id": "3fJnblAdlRzI"
      },
      "execution_count": 47,
      "outputs": []
    },
    {
      "cell_type": "markdown",
      "source": [
        "# EDA"
      ],
      "metadata": {
        "id": "9enXgX7_lfSI"
      }
    },
    {
      "cell_type": "code",
      "source": [
        "df.head()"
      ],
      "metadata": {
        "colab": {
          "base_uri": "https://localhost:8080/",
          "height": 206
        },
        "id": "-JT2VA-wleGy",
        "outputId": "2b094aed-93a5-4883-f690-f813002caea6"
      },
      "execution_count": 48,
      "outputs": [
        {
          "output_type": "execute_result",
          "data": {
            "text/plain": [
              "   Temperature  Humidity  PM2.5  PM10   NO2   SO2    CO  \\\n",
              "0         29.8      59.1    5.2  17.9  18.9   9.2  1.72   \n",
              "1         28.3      75.6    2.3  12.2  30.8   9.7  1.64   \n",
              "2         23.1      74.7   26.7  33.8  24.4  12.6  1.63   \n",
              "3         27.1      39.1    6.1   6.3  13.5   5.3  1.15   \n",
              "4         26.5      70.7    6.9  16.0  21.9   5.6  1.01   \n",
              "\n",
              "   Proximity_to_Industrial_Areas  Population_Density Air Quality  \n",
              "0                            6.3                 319    Moderate  \n",
              "1                            6.0                 611    Moderate  \n",
              "2                            5.2                 619    Moderate  \n",
              "3                           11.1                 551        Good  \n",
              "4                           12.7                 303        Good  "
            ],
            "text/html": [
              "\n",
              "  <div id=\"df-1c1b8b80-ab6d-42b7-a786-8174d957e759\" class=\"colab-df-container\">\n",
              "    <div>\n",
              "<style scoped>\n",
              "    .dataframe tbody tr th:only-of-type {\n",
              "        vertical-align: middle;\n",
              "    }\n",
              "\n",
              "    .dataframe tbody tr th {\n",
              "        vertical-align: top;\n",
              "    }\n",
              "\n",
              "    .dataframe thead th {\n",
              "        text-align: right;\n",
              "    }\n",
              "</style>\n",
              "<table border=\"1\" class=\"dataframe\">\n",
              "  <thead>\n",
              "    <tr style=\"text-align: right;\">\n",
              "      <th></th>\n",
              "      <th>Temperature</th>\n",
              "      <th>Humidity</th>\n",
              "      <th>PM2.5</th>\n",
              "      <th>PM10</th>\n",
              "      <th>NO2</th>\n",
              "      <th>SO2</th>\n",
              "      <th>CO</th>\n",
              "      <th>Proximity_to_Industrial_Areas</th>\n",
              "      <th>Population_Density</th>\n",
              "      <th>Air Quality</th>\n",
              "    </tr>\n",
              "  </thead>\n",
              "  <tbody>\n",
              "    <tr>\n",
              "      <th>0</th>\n",
              "      <td>29.8</td>\n",
              "      <td>59.1</td>\n",
              "      <td>5.2</td>\n",
              "      <td>17.9</td>\n",
              "      <td>18.9</td>\n",
              "      <td>9.2</td>\n",
              "      <td>1.72</td>\n",
              "      <td>6.3</td>\n",
              "      <td>319</td>\n",
              "      <td>Moderate</td>\n",
              "    </tr>\n",
              "    <tr>\n",
              "      <th>1</th>\n",
              "      <td>28.3</td>\n",
              "      <td>75.6</td>\n",
              "      <td>2.3</td>\n",
              "      <td>12.2</td>\n",
              "      <td>30.8</td>\n",
              "      <td>9.7</td>\n",
              "      <td>1.64</td>\n",
              "      <td>6.0</td>\n",
              "      <td>611</td>\n",
              "      <td>Moderate</td>\n",
              "    </tr>\n",
              "    <tr>\n",
              "      <th>2</th>\n",
              "      <td>23.1</td>\n",
              "      <td>74.7</td>\n",
              "      <td>26.7</td>\n",
              "      <td>33.8</td>\n",
              "      <td>24.4</td>\n",
              "      <td>12.6</td>\n",
              "      <td>1.63</td>\n",
              "      <td>5.2</td>\n",
              "      <td>619</td>\n",
              "      <td>Moderate</td>\n",
              "    </tr>\n",
              "    <tr>\n",
              "      <th>3</th>\n",
              "      <td>27.1</td>\n",
              "      <td>39.1</td>\n",
              "      <td>6.1</td>\n",
              "      <td>6.3</td>\n",
              "      <td>13.5</td>\n",
              "      <td>5.3</td>\n",
              "      <td>1.15</td>\n",
              "      <td>11.1</td>\n",
              "      <td>551</td>\n",
              "      <td>Good</td>\n",
              "    </tr>\n",
              "    <tr>\n",
              "      <th>4</th>\n",
              "      <td>26.5</td>\n",
              "      <td>70.7</td>\n",
              "      <td>6.9</td>\n",
              "      <td>16.0</td>\n",
              "      <td>21.9</td>\n",
              "      <td>5.6</td>\n",
              "      <td>1.01</td>\n",
              "      <td>12.7</td>\n",
              "      <td>303</td>\n",
              "      <td>Good</td>\n",
              "    </tr>\n",
              "  </tbody>\n",
              "</table>\n",
              "</div>\n",
              "    <div class=\"colab-df-buttons\">\n",
              "\n",
              "  <div class=\"colab-df-container\">\n",
              "    <button class=\"colab-df-convert\" onclick=\"convertToInteractive('df-1c1b8b80-ab6d-42b7-a786-8174d957e759')\"\n",
              "            title=\"Convert this dataframe to an interactive table.\"\n",
              "            style=\"display:none;\">\n",
              "\n",
              "  <svg xmlns=\"http://www.w3.org/2000/svg\" height=\"24px\" viewBox=\"0 -960 960 960\">\n",
              "    <path d=\"M120-120v-720h720v720H120Zm60-500h600v-160H180v160Zm220 220h160v-160H400v160Zm0 220h160v-160H400v160ZM180-400h160v-160H180v160Zm440 0h160v-160H620v160ZM180-180h160v-160H180v160Zm440 0h160v-160H620v160Z\"/>\n",
              "  </svg>\n",
              "    </button>\n",
              "\n",
              "  <style>\n",
              "    .colab-df-container {\n",
              "      display:flex;\n",
              "      gap: 12px;\n",
              "    }\n",
              "\n",
              "    .colab-df-convert {\n",
              "      background-color: #E8F0FE;\n",
              "      border: none;\n",
              "      border-radius: 50%;\n",
              "      cursor: pointer;\n",
              "      display: none;\n",
              "      fill: #1967D2;\n",
              "      height: 32px;\n",
              "      padding: 0 0 0 0;\n",
              "      width: 32px;\n",
              "    }\n",
              "\n",
              "    .colab-df-convert:hover {\n",
              "      background-color: #E2EBFA;\n",
              "      box-shadow: 0px 1px 2px rgba(60, 64, 67, 0.3), 0px 1px 3px 1px rgba(60, 64, 67, 0.15);\n",
              "      fill: #174EA6;\n",
              "    }\n",
              "\n",
              "    .colab-df-buttons div {\n",
              "      margin-bottom: 4px;\n",
              "    }\n",
              "\n",
              "    [theme=dark] .colab-df-convert {\n",
              "      background-color: #3B4455;\n",
              "      fill: #D2E3FC;\n",
              "    }\n",
              "\n",
              "    [theme=dark] .colab-df-convert:hover {\n",
              "      background-color: #434B5C;\n",
              "      box-shadow: 0px 1px 3px 1px rgba(0, 0, 0, 0.15);\n",
              "      filter: drop-shadow(0px 1px 2px rgba(0, 0, 0, 0.3));\n",
              "      fill: #FFFFFF;\n",
              "    }\n",
              "  </style>\n",
              "\n",
              "    <script>\n",
              "      const buttonEl =\n",
              "        document.querySelector('#df-1c1b8b80-ab6d-42b7-a786-8174d957e759 button.colab-df-convert');\n",
              "      buttonEl.style.display =\n",
              "        google.colab.kernel.accessAllowed ? 'block' : 'none';\n",
              "\n",
              "      async function convertToInteractive(key) {\n",
              "        const element = document.querySelector('#df-1c1b8b80-ab6d-42b7-a786-8174d957e759');\n",
              "        const dataTable =\n",
              "          await google.colab.kernel.invokeFunction('convertToInteractive',\n",
              "                                                    [key], {});\n",
              "        if (!dataTable) return;\n",
              "\n",
              "        const docLinkHtml = 'Like what you see? Visit the ' +\n",
              "          '<a target=\"_blank\" href=https://colab.research.google.com/notebooks/data_table.ipynb>data table notebook</a>'\n",
              "          + ' to learn more about interactive tables.';\n",
              "        element.innerHTML = '';\n",
              "        dataTable['output_type'] = 'display_data';\n",
              "        await google.colab.output.renderOutput(dataTable, element);\n",
              "        const docLink = document.createElement('div');\n",
              "        docLink.innerHTML = docLinkHtml;\n",
              "        element.appendChild(docLink);\n",
              "      }\n",
              "    </script>\n",
              "  </div>\n",
              "\n",
              "\n",
              "<div id=\"df-0b91bc33-e844-4330-85f6-fa81b2ec2be9\">\n",
              "  <button class=\"colab-df-quickchart\" onclick=\"quickchart('df-0b91bc33-e844-4330-85f6-fa81b2ec2be9')\"\n",
              "            title=\"Suggest charts\"\n",
              "            style=\"display:none;\">\n",
              "\n",
              "<svg xmlns=\"http://www.w3.org/2000/svg\" height=\"24px\"viewBox=\"0 0 24 24\"\n",
              "     width=\"24px\">\n",
              "    <g>\n",
              "        <path d=\"M19 3H5c-1.1 0-2 .9-2 2v14c0 1.1.9 2 2 2h14c1.1 0 2-.9 2-2V5c0-1.1-.9-2-2-2zM9 17H7v-7h2v7zm4 0h-2V7h2v10zm4 0h-2v-4h2v4z\"/>\n",
              "    </g>\n",
              "</svg>\n",
              "  </button>\n",
              "\n",
              "<style>\n",
              "  .colab-df-quickchart {\n",
              "      --bg-color: #E8F0FE;\n",
              "      --fill-color: #1967D2;\n",
              "      --hover-bg-color: #E2EBFA;\n",
              "      --hover-fill-color: #174EA6;\n",
              "      --disabled-fill-color: #AAA;\n",
              "      --disabled-bg-color: #DDD;\n",
              "  }\n",
              "\n",
              "  [theme=dark] .colab-df-quickchart {\n",
              "      --bg-color: #3B4455;\n",
              "      --fill-color: #D2E3FC;\n",
              "      --hover-bg-color: #434B5C;\n",
              "      --hover-fill-color: #FFFFFF;\n",
              "      --disabled-bg-color: #3B4455;\n",
              "      --disabled-fill-color: #666;\n",
              "  }\n",
              "\n",
              "  .colab-df-quickchart {\n",
              "    background-color: var(--bg-color);\n",
              "    border: none;\n",
              "    border-radius: 50%;\n",
              "    cursor: pointer;\n",
              "    display: none;\n",
              "    fill: var(--fill-color);\n",
              "    height: 32px;\n",
              "    padding: 0;\n",
              "    width: 32px;\n",
              "  }\n",
              "\n",
              "  .colab-df-quickchart:hover {\n",
              "    background-color: var(--hover-bg-color);\n",
              "    box-shadow: 0 1px 2px rgba(60, 64, 67, 0.3), 0 1px 3px 1px rgba(60, 64, 67, 0.15);\n",
              "    fill: var(--button-hover-fill-color);\n",
              "  }\n",
              "\n",
              "  .colab-df-quickchart-complete:disabled,\n",
              "  .colab-df-quickchart-complete:disabled:hover {\n",
              "    background-color: var(--disabled-bg-color);\n",
              "    fill: var(--disabled-fill-color);\n",
              "    box-shadow: none;\n",
              "  }\n",
              "\n",
              "  .colab-df-spinner {\n",
              "    border: 2px solid var(--fill-color);\n",
              "    border-color: transparent;\n",
              "    border-bottom-color: var(--fill-color);\n",
              "    animation:\n",
              "      spin 1s steps(1) infinite;\n",
              "  }\n",
              "\n",
              "  @keyframes spin {\n",
              "    0% {\n",
              "      border-color: transparent;\n",
              "      border-bottom-color: var(--fill-color);\n",
              "      border-left-color: var(--fill-color);\n",
              "    }\n",
              "    20% {\n",
              "      border-color: transparent;\n",
              "      border-left-color: var(--fill-color);\n",
              "      border-top-color: var(--fill-color);\n",
              "    }\n",
              "    30% {\n",
              "      border-color: transparent;\n",
              "      border-left-color: var(--fill-color);\n",
              "      border-top-color: var(--fill-color);\n",
              "      border-right-color: var(--fill-color);\n",
              "    }\n",
              "    40% {\n",
              "      border-color: transparent;\n",
              "      border-right-color: var(--fill-color);\n",
              "      border-top-color: var(--fill-color);\n",
              "    }\n",
              "    60% {\n",
              "      border-color: transparent;\n",
              "      border-right-color: var(--fill-color);\n",
              "    }\n",
              "    80% {\n",
              "      border-color: transparent;\n",
              "      border-right-color: var(--fill-color);\n",
              "      border-bottom-color: var(--fill-color);\n",
              "    }\n",
              "    90% {\n",
              "      border-color: transparent;\n",
              "      border-bottom-color: var(--fill-color);\n",
              "    }\n",
              "  }\n",
              "</style>\n",
              "\n",
              "  <script>\n",
              "    async function quickchart(key) {\n",
              "      const quickchartButtonEl =\n",
              "        document.querySelector('#' + key + ' button');\n",
              "      quickchartButtonEl.disabled = true;  // To prevent multiple clicks.\n",
              "      quickchartButtonEl.classList.add('colab-df-spinner');\n",
              "      try {\n",
              "        const charts = await google.colab.kernel.invokeFunction(\n",
              "            'suggestCharts', [key], {});\n",
              "      } catch (error) {\n",
              "        console.error('Error during call to suggestCharts:', error);\n",
              "      }\n",
              "      quickchartButtonEl.classList.remove('colab-df-spinner');\n",
              "      quickchartButtonEl.classList.add('colab-df-quickchart-complete');\n",
              "    }\n",
              "    (() => {\n",
              "      let quickchartButtonEl =\n",
              "        document.querySelector('#df-0b91bc33-e844-4330-85f6-fa81b2ec2be9 button');\n",
              "      quickchartButtonEl.style.display =\n",
              "        google.colab.kernel.accessAllowed ? 'block' : 'none';\n",
              "    })();\n",
              "  </script>\n",
              "</div>\n",
              "\n",
              "    </div>\n",
              "  </div>\n"
            ],
            "application/vnd.google.colaboratory.intrinsic+json": {
              "type": "dataframe",
              "variable_name": "df",
              "summary": "{\n  \"name\": \"df\",\n  \"rows\": 5000,\n  \"fields\": [\n    {\n      \"column\": \"Temperature\",\n      \"properties\": {\n        \"dtype\": \"number\",\n        \"std\": 6.72066137351523,\n        \"min\": 13.4,\n        \"max\": 58.6,\n        \"num_unique_values\": 362,\n        \"samples\": [\n          20.3,\n          27.7,\n          32.0\n        ],\n        \"semantic_type\": \"\",\n        \"description\": \"\"\n      }\n    },\n    {\n      \"column\": \"Humidity\",\n      \"properties\": {\n        \"dtype\": \"number\",\n        \"std\": 15.863576682407786,\n        \"min\": 36.0,\n        \"max\": 128.1,\n        \"num_unique_values\": 723,\n        \"samples\": [\n          74.3,\n          58.5,\n          86.2\n        ],\n        \"semantic_type\": \"\",\n        \"description\": \"\"\n      }\n    },\n    {\n      \"column\": \"PM2.5\",\n      \"properties\": {\n        \"dtype\": \"number\",\n        \"std\": 24.554545879838066,\n        \"min\": 0.0,\n        \"max\": 295.0,\n        \"num_unique_values\": 815,\n        \"samples\": [\n          21.7,\n          11.5,\n          52.1\n        ],\n        \"semantic_type\": \"\",\n        \"description\": \"\"\n      }\n    },\n    {\n      \"column\": \"PM10\",\n      \"properties\": {\n        \"dtype\": \"number\",\n        \"std\": 27.349199378624032,\n        \"min\": -0.2,\n        \"max\": 315.8,\n        \"num_unique_values\": 955,\n        \"samples\": [\n          18.4,\n          97.4,\n          83.0\n        ],\n        \"semantic_type\": \"\",\n        \"description\": \"\"\n      }\n    },\n    {\n      \"column\": \"NO2\",\n      \"properties\": {\n        \"dtype\": \"number\",\n        \"std\": 8.895356376391709,\n        \"min\": 7.4,\n        \"max\": 64.9,\n        \"num_unique_values\": 445,\n        \"samples\": [\n          19.9,\n          19.8,\n          33.1\n        ],\n        \"semantic_type\": \"\",\n        \"description\": \"\"\n      }\n    },\n    {\n      \"column\": \"SO2\",\n      \"properties\": {\n        \"dtype\": \"number\",\n        \"std\": 6.750303377385161,\n        \"min\": -6.2,\n        \"max\": 44.9,\n        \"num_unique_values\": 348,\n        \"samples\": [\n          18.7,\n          13.4,\n          35.7\n        ],\n        \"semantic_type\": \"\",\n        \"description\": \"\"\n      }\n    },\n    {\n      \"column\": \"CO\",\n      \"properties\": {\n        \"dtype\": \"number\",\n        \"std\": 0.5460266694116166,\n        \"min\": 0.65,\n        \"max\": 3.72,\n        \"num_unique_values\": 265,\n        \"samples\": [\n          2.27,\n          2.02,\n          2.97\n        ],\n        \"semantic_type\": \"\",\n        \"description\": \"\"\n      }\n    },\n    {\n      \"column\": \"Proximity_to_Industrial_Areas\",\n      \"properties\": {\n        \"dtype\": \"number\",\n        \"std\": 3.610943730235125,\n        \"min\": 2.5,\n        \"max\": 25.8,\n        \"num_unique_values\": 179,\n        \"samples\": [\n          9.0,\n          4.1,\n          8.2\n        ],\n        \"semantic_type\": \"\",\n        \"description\": \"\"\n      }\n    },\n    {\n      \"column\": \"Population_Density\",\n      \"properties\": {\n        \"dtype\": \"number\",\n        \"std\": 152,\n        \"min\": 188,\n        \"max\": 957,\n        \"num_unique_values\": 683,\n        \"samples\": [\n          295,\n          679,\n          492\n        ],\n        \"semantic_type\": \"\",\n        \"description\": \"\"\n      }\n    },\n    {\n      \"column\": \"Air Quality\",\n      \"properties\": {\n        \"dtype\": \"category\",\n        \"num_unique_values\": 4,\n        \"samples\": [\n          \"Good\",\n          \"Poor\",\n          \"Moderate\"\n        ],\n        \"semantic_type\": \"\",\n        \"description\": \"\"\n      }\n    }\n  ]\n}"
            }
          },
          "metadata": {},
          "execution_count": 48
        }
      ]
    },
    {
      "cell_type": "code",
      "source": [
        "df.shape"
      ],
      "metadata": {
        "colab": {
          "base_uri": "https://localhost:8080/"
        },
        "id": "wyNmdSbNllOL",
        "outputId": "acbaa261-8bcd-42d7-9792-3882ef061a79"
      },
      "execution_count": 49,
      "outputs": [
        {
          "output_type": "execute_result",
          "data": {
            "text/plain": [
              "(5000, 10)"
            ]
          },
          "metadata": {},
          "execution_count": 49
        }
      ]
    },
    {
      "cell_type": "markdown",
      "source": [
        "dataset memiliki 5000 baris dan 10 kolom. Artinya, dataset ini terdiri dari 5000 sampel data dengan 10 fitur yang berbeda, termasuk variabel target Air Quality dan fitur-fitur lainnya seperti suhu, kelembaban, dan konsentrasi polutan."
      ],
      "metadata": {
        "id": "IqRSKcGc1Xit"
      }
    },
    {
      "cell_type": "code",
      "source": [
        "df.info()"
      ],
      "metadata": {
        "colab": {
          "base_uri": "https://localhost:8080/"
        },
        "id": "OakwGbqklmcy",
        "outputId": "3e0045be-c5be-4297-8590-5a895344e684"
      },
      "execution_count": 50,
      "outputs": [
        {
          "output_type": "stream",
          "name": "stdout",
          "text": [
            "<class 'pandas.core.frame.DataFrame'>\n",
            "RangeIndex: 5000 entries, 0 to 4999\n",
            "Data columns (total 10 columns):\n",
            " #   Column                         Non-Null Count  Dtype  \n",
            "---  ------                         --------------  -----  \n",
            " 0   Temperature                    5000 non-null   float64\n",
            " 1   Humidity                       5000 non-null   float64\n",
            " 2   PM2.5                          5000 non-null   float64\n",
            " 3   PM10                           5000 non-null   float64\n",
            " 4   NO2                            5000 non-null   float64\n",
            " 5   SO2                            5000 non-null   float64\n",
            " 6   CO                             5000 non-null   float64\n",
            " 7   Proximity_to_Industrial_Areas  5000 non-null   float64\n",
            " 8   Population_Density             5000 non-null   int64  \n",
            " 9   Air Quality                    5000 non-null   object \n",
            "dtypes: float64(8), int64(1), object(1)\n",
            "memory usage: 390.8+ KB\n"
          ]
        }
      ]
    },
    {
      "cell_type": "markdown",
      "source": [
        "Dataset ini memiliki 5000 entri (baris) dan 10 kolom. Semua kolom, kecuali kolom Air Quality, memiliki tipe data float64, yang menunjukkan bahwa data tersebut berupa angka desimal. Kolom Air Quality bertipe object, yang berarti kolom ini berisi nilai kategorikal (seperti Good, Moderate, atau Hazardous). Selain itu, semua kolom memiliki non-null count yang sama dengan jumlah total entri (5000), yang berarti tidak ada nilai yang hilang pada dataset ini."
      ],
      "metadata": {
        "id": "Vzcews5U1gbv"
      }
    },
    {
      "cell_type": "code",
      "source": [
        "df.isna().sum()"
      ],
      "metadata": {
        "colab": {
          "base_uri": "https://localhost:8080/",
          "height": 398
        },
        "id": "Rq-VLAv-lqNm",
        "outputId": "2a5f9e3f-d9c7-44eb-917c-ff96dc31f1da"
      },
      "execution_count": 51,
      "outputs": [
        {
          "output_type": "execute_result",
          "data": {
            "text/plain": [
              "Temperature                      0\n",
              "Humidity                         0\n",
              "PM2.5                            0\n",
              "PM10                             0\n",
              "NO2                              0\n",
              "SO2                              0\n",
              "CO                               0\n",
              "Proximity_to_Industrial_Areas    0\n",
              "Population_Density               0\n",
              "Air Quality                      0\n",
              "dtype: int64"
            ],
            "text/html": [
              "<div>\n",
              "<style scoped>\n",
              "    .dataframe tbody tr th:only-of-type {\n",
              "        vertical-align: middle;\n",
              "    }\n",
              "\n",
              "    .dataframe tbody tr th {\n",
              "        vertical-align: top;\n",
              "    }\n",
              "\n",
              "    .dataframe thead th {\n",
              "        text-align: right;\n",
              "    }\n",
              "</style>\n",
              "<table border=\"1\" class=\"dataframe\">\n",
              "  <thead>\n",
              "    <tr style=\"text-align: right;\">\n",
              "      <th></th>\n",
              "      <th>0</th>\n",
              "    </tr>\n",
              "  </thead>\n",
              "  <tbody>\n",
              "    <tr>\n",
              "      <th>Temperature</th>\n",
              "      <td>0</td>\n",
              "    </tr>\n",
              "    <tr>\n",
              "      <th>Humidity</th>\n",
              "      <td>0</td>\n",
              "    </tr>\n",
              "    <tr>\n",
              "      <th>PM2.5</th>\n",
              "      <td>0</td>\n",
              "    </tr>\n",
              "    <tr>\n",
              "      <th>PM10</th>\n",
              "      <td>0</td>\n",
              "    </tr>\n",
              "    <tr>\n",
              "      <th>NO2</th>\n",
              "      <td>0</td>\n",
              "    </tr>\n",
              "    <tr>\n",
              "      <th>SO2</th>\n",
              "      <td>0</td>\n",
              "    </tr>\n",
              "    <tr>\n",
              "      <th>CO</th>\n",
              "      <td>0</td>\n",
              "    </tr>\n",
              "    <tr>\n",
              "      <th>Proximity_to_Industrial_Areas</th>\n",
              "      <td>0</td>\n",
              "    </tr>\n",
              "    <tr>\n",
              "      <th>Population_Density</th>\n",
              "      <td>0</td>\n",
              "    </tr>\n",
              "    <tr>\n",
              "      <th>Air Quality</th>\n",
              "      <td>0</td>\n",
              "    </tr>\n",
              "  </tbody>\n",
              "</table>\n",
              "</div><br><label><b>dtype:</b> int64</label>"
            ]
          },
          "metadata": {},
          "execution_count": 51
        }
      ]
    },
    {
      "cell_type": "markdown",
      "source": [
        "memeriksa jumlah nilai yang hilang (missing values) dalam setiap kolom dataset. Hasilnya menunjukkan bahwa tidak ada kolom yang memiliki nilai hilang (semua nilai adalah 0), yang berarti dataset ini lengkap dan tidak perlu penanganan nilai yang hilang. Semua kolom, termasuk Air Quality, memiliki data yang lengkap."
      ],
      "metadata": {
        "id": "RI_T_HdQ11lC"
      }
    },
    {
      "cell_type": "code",
      "source": [
        "categorical = df.select_dtypes(include=['category']).columns.values\n",
        "numerical = df.select_dtypes(include=['number']).columns.values\n",
        "print('categorical variables: ' + str(categorical))\n",
        "print('numerical variables: ' + str(numerical))"
      ],
      "metadata": {
        "colab": {
          "base_uri": "https://localhost:8080/"
        },
        "id": "0hLdeSNfo3hP",
        "outputId": "e614ea18-c8d8-4300-9ab1-d5ded642a2de"
      },
      "execution_count": 52,
      "outputs": [
        {
          "output_type": "stream",
          "name": "stdout",
          "text": [
            "categorical variables: []\n",
            "numerical variables: ['Temperature' 'Humidity' 'PM2.5' 'PM10' 'NO2' 'SO2' 'CO'\n",
            " 'Proximity_to_Industrial_Areas' 'Population_Density']\n"
          ]
        }
      ]
    },
    {
      "cell_type": "markdown",
      "source": [
        "Pada dataset ini, tidak ditemukan variabel dengan tipe data kategorikal (category). Semua kolom dalam dataset, kecuali kolom **Air Quality**, memiliki tipe data numerikal (number). Variabel numerikal yang ada meliputi **Temperature**, **Humidity**, **PM2.5**, **PM10**, **NO2**, **SO2**, **CO**, **Proximity_to_Industrial_Areas**, dan **Population_Density**, yang semuanya berisi nilai numerik. Sementara itu, kolom **Air Quality** merupakan satu-satunya kolom kategorikal yang menyatakan kualitas udara dengan kategori seperti **Good**, **Moderate**, dan **Hazardous**."
      ],
      "metadata": {
        "id": "3UOI8hA02Jk3"
      }
    },
    {
      "cell_type": "code",
      "source": [
        "df['Air Quality'].value_counts().plot(kind='bar')"
      ],
      "metadata": {
        "colab": {
          "base_uri": "https://localhost:8080/",
          "height": 526
        },
        "id": "nt-wSLmFluPs",
        "outputId": "36f23b77-3d63-4263-9f29-67e8f1ea4995"
      },
      "execution_count": 53,
      "outputs": [
        {
          "output_type": "execute_result",
          "data": {
            "text/plain": [
              "<Axes: xlabel='Air Quality'>"
            ]
          },
          "metadata": {},
          "execution_count": 53
        },
        {
          "output_type": "display_data",
          "data": {
            "text/plain": [
              "<Figure size 640x480 with 1 Axes>"
            ],
            "image/png": "[encoded data removed]"
          },
          "metadata": {}
        }
      ]
    },
    {
      "cell_type": "markdown",
      "source": [
        "kategori Good memiliki jumlah data terbanyak, diikuti oleh Moderate dan Poor, sementara kategori Hazardous memiliki jumlah yang paling sedikit. Grafik ini memberikan gambaran tentang seberapa seimbang distribusi kualitas udara dalam dataset, dengan kecenderungan mayoritas data berada pada kualitas udara yang lebih baik (Good dan Moderate)."
      ],
      "metadata": {
        "id": "DFIK89tP2jrS"
      }
    },
    {
      "cell_type": "code",
      "source": [
        "plt.figure(figsize=(8, 6))\n",
        "sns.histplot(df['Temperature'], bins=20, kde=True)\n",
        "plt.title('Distribusi Temperatur')\n",
        "plt.xlabel('Temperatur')\n",
        "plt.ylabel('Frekuensi')\n",
        "plt.show()"
      ],
      "metadata": {
        "colab": {
          "base_uri": "https://localhost:8080/",
          "height": 564
        },
        "id": "ecVP9mbosN_Z",
        "outputId": "b752500e-e565-4b8d-b5ad-e91b934b57c1"
      },
      "execution_count": 54,
      "outputs": [
        {
          "output_type": "display_data",
          "data": {
            "text/plain": [
              "<Figure size 800x600 with 1 Axes>"
            ],
            "image/png": "[encoded data removed]"
          },
          "metadata": {}
        }
      ]
    },
    {
      "cell_type": "markdown",
      "source": [
        "distribusi temperatur menunjukkan data dengan rentang nilai yang lebih besar (mungkin antara 20 hingga 50).\n",
        "\n",
        "Data ini cenderung memiliki skala yang lebih besar, dengan variasi yang lebih lebar di sepanjang sumbu horizontal (temperatur)."
      ],
      "metadata": {
        "id": "fQ6qg7hBu-ay"
      }
    },
    {
      "cell_type": "code",
      "source": [
        "# Feature dan label\n",
        "X= df.drop('Air Quality', axis=1)\n",
        "y= df['Air Quality']"
      ],
      "metadata": {
        "id": "roo4yj1hp44w"
      },
      "execution_count": 56,
      "outputs": []
    },
    {
      "cell_type": "code",
      "source": [
        "X.shape"
      ],
      "metadata": {
        "colab": {
          "base_uri": "https://localhost:8080/"
        },
        "id": "jZKbkrfrl1LV",
        "outputId": "4a5d4138-8637-4cbc-9673-99279f08ae01"
      },
      "execution_count": 57,
      "outputs": [
        {
          "output_type": "execute_result",
          "data": {
            "text/plain": [
              "(5000, 9)"
            ]
          },
          "metadata": {},
          "execution_count": 57
        }
      ]
    },
    {
      "cell_type": "code",
      "source": [
        "corr_matrix= X.corr()\n",
        "sns.heatmap(corr_matrix)"
      ],
      "metadata": {
        "colab": {
          "base_uri": "https://localhost:8080/",
          "height": 643
        },
        "id": "OcC0_7bMqqAI",
        "outputId": "6fac27b7-5071-4bfd-9187-57cbe3e0b921"
      },
      "execution_count": 58,
      "outputs": [
        {
          "output_type": "execute_result",
          "data": {
            "text/plain": [
              "<Axes: >"
            ]
          },
          "metadata": {},
          "execution_count": 58
        },
        {
          "output_type": "display_data",
          "data": {
            "text/plain": [
              "<Figure size 640x480 with 2 Axes>"
            ],
            "image/png": "[encoded data removed]"
          },
          "metadata": {}
        }
      ]
    },
    {
      "cell_type": "markdown",
      "source": [
        "Setiap sel dalam heatmap menggambarkan korelasi Pearson antara dua fitur yang berbeda, dengan warna yang lebih gelap menunjukkan korelasi yang lebih kuat. Sebagai contoh, PM2.5 dan PM10 memiliki korelasi positif yang sangat tinggi, yang terlihat dengan warna merah tua, menunjukkan bahwa keduanya cenderung meningkat bersama. Di sisi lain, Proximity_to_Industrial_Areas memiliki korelasi negatif dengan beberapa fitur lain, seperti Population_Density, yang ditunjukkan dengan warna gelap, menunjukkan hubungan terbalik antara keduanya. Grafik ini sangat berguna untuk mengidentifikasi hubungan antar variabel dan menentukan fitur mana yang memiliki pengaruh signifikan satu sama lain."
      ],
      "metadata": {
        "id": "NbBKYpct3L8D"
      }
    },
    {
      "cell_type": "markdown",
      "source": [
        "# Preprocessing"
      ],
      "metadata": {
        "id": "qg2enlhvsA2e"
      }
    },
    {
      "cell_type": "code",
      "source": [
        "from sklearn.preprocessing import StandardScaler\n",
        "\n",
        "scaler = StandardScaler()\n",
        "df[numerical] = scaler.fit_transform(df[numerical])"
      ],
      "metadata": {
        "id": "PrmaiBF-qykq"
      },
      "execution_count": 59,
      "outputs": []
    },
    {
      "cell_type": "code",
      "source": [
        "plt.figure(figsize=(8, 6))\n",
        "sns.histplot(df['Temperature'], bins=20, kde=True)\n",
        "plt.title('Distribusi Temperatur')\n",
        "plt.xlabel('Temperatur')\n",
        "plt.ylabel('Frekuensi')\n",
        "plt.show()"
      ],
      "metadata": {
        "colab": {
          "base_uri": "https://localhost:8080/",
          "height": 564
        },
        "id": "UlsHZcNmsyC5",
        "outputId": "b38cd72f-1487-4e35-d343-5d9a4ee6e656"
      },
      "execution_count": 60,
      "outputs": [
        {
          "output_type": "display_data",
          "data": {
            "text/plain": [
              "<Figure size 800x600 with 1 Axes>"
            ],
            "image/png": "[encoded data removed]"
          },
          "metadata": {}
        }
      ]
    },
    {
      "cell_type": "markdown",
      "source": [
        "Setelah data distandarisasi, kita dapat melihat bahwa distribusi temperatur telah diperkecil sehingga nilai berada dalam rentang yang lebih sempit (biasanya sekitar -3 hingga 3 setelah standar scaler).\n",
        "\n",
        "Sumbu horizontal (temperatur) sekarang memiliki nilai yang lebih kecil dan simetris sekitar nilai 0.\n",
        "\n",
        "Hal ini menunjukkan bahwa setelah standarisasi, data memiliki distribusi yang lebih terpusat dengan mean mendekati 0 dan deviasi standar mendekati 1."
      ],
      "metadata": {
        "id": "DuG81B7uvCIn"
      }
    },
    {
      "cell_type": "markdown",
      "source": [
        "# Feature Selection"
      ],
      "metadata": {
        "id": "KZFnbcVgznaE"
      }
    },
    {
      "cell_type": "code",
      "source": [
        "from sklearn.feature_selection import mutual_info_classif\n",
        "\n",
        "mi_scores = mutual_info_classif(X, y, random_state=42)\n",
        "\n",
        "mi_df = pd.DataFrame({\n",
        "    'Feature': X.columns,\n",
        "    'MI_Score': mi_scores\n",
        "}).sort_values(by='MI_Score', ascending=False)\n",
        "mi_df"
      ],
      "metadata": {
        "colab": {
          "base_uri": "https://localhost:8080/",
          "height": 332
        },
        "id": "4TTlMrv6vGgR",
        "outputId": "834d3c55-b8f5-4397-dc1d-7c7e31737a44"
      },
      "execution_count": 62,
      "outputs": [
        {
          "output_type": "execute_result",
          "data": {
            "text/plain": [
              "                         Feature  MI_Score\n",
              "6                             CO  0.892075\n",
              "7  Proximity_to_Industrial_Areas  0.759746\n",
              "4                            NO2  0.478531\n",
              "5                            SO2  0.451702\n",
              "0                    Temperature  0.417376\n",
              "8             Population_Density  0.326411\n",
              "1                       Humidity  0.290378\n",
              "3                           PM10  0.248696\n",
              "2                          PM2.5  0.120626"
            ],
            "text/html": [
              "\n",
              "  <div id=\"df-b336bbdf-27e3-45c0-8b9f-21625ad39b8e\" class=\"colab-df-container\">\n",
              "    <div>\n",
              "<style scoped>\n",
              "    .dataframe tbody tr th:only-of-type {\n",
              "        vertical-align: middle;\n",
              "    }\n",
              "\n",
              "    .dataframe tbody tr th {\n",
              "        vertical-align: top;\n",
              "    }\n",
              "\n",
              "    .dataframe thead th {\n",
              "        text-align: right;\n",
              "    }\n",
              "</style>\n",
              "<table border=\"1\" class=\"dataframe\">\n",
              "  <thead>\n",
              "    <tr style=\"text-align: right;\">\n",
              "      <th></th>\n",
              "      <th>Feature</th>\n",
              "      <th>MI_Score</th>\n",
              "    </tr>\n",
              "  </thead>\n",
              "  <tbody>\n",
              "    <tr>\n",
              "      <th>6</th>\n",
              "      <td>CO</td>\n",
              "      <td>0.892075</td>\n",
              "    </tr>\n",
              "    <tr>\n",
              "      <th>7</th>\n",
              "      <td>Proximity_to_Industrial_Areas</td>\n",
              "      <td>0.759746</td>\n",
              "    </tr>\n",
              "    <tr>\n",
              "      <th>4</th>\n",
              "      <td>NO2</td>\n",
              "      <td>0.478531</td>\n",
              "    </tr>\n",
              "    <tr>\n",
              "      <th>5</th>\n",
              "      <td>SO2</td>\n",
              "      <td>0.451702</td>\n",
              "    </tr>\n",
              "    <tr>\n",
              "      <th>0</th>\n",
              "      <td>Temperature</td>\n",
              "      <td>0.417376</td>\n",
              "    </tr>\n",
              "    <tr>\n",
              "      <th>8</th>\n",
              "      <td>Population_Density</td>\n",
              "      <td>0.326411</td>\n",
              "    </tr>\n",
              "    <tr>\n",
              "      <th>1</th>\n",
              "      <td>Humidity</td>\n",
              "      <td>0.290378</td>\n",
              "    </tr>\n",
              "    <tr>\n",
              "      <th>3</th>\n",
              "      <td>PM10</td>\n",
              "      <td>0.248696</td>\n",
              "    </tr>\n",
              "    <tr>\n",
              "      <th>2</th>\n",
              "      <td>PM2.5</td>\n",
              "      <td>0.120626</td>\n",
              "    </tr>\n",
              "  </tbody>\n",
              "</table>\n",
              "</div>\n",
              "    <div class=\"colab-df-buttons\">\n",
              "\n",
              "  <div class=\"colab-df-container\">\n",
              "    <button class=\"colab-df-convert\" onclick=\"convertToInteractive('df-b336bbdf-27e3-45c0-8b9f-21625ad39b8e')\"\n",
              "            title=\"Convert this dataframe to an interactive table.\"\n",
              "            style=\"display:none;\">\n",
              "\n",
              "  <svg xmlns=\"http://www.w3.org/2000/svg\" height=\"24px\" viewBox=\"0 -960 960 960\">\n",
              "    <path d=\"M120-120v-720h720v720H120Zm60-500h600v-160H180v160Zm220 220h160v-160H400v160Zm0 220h160v-160H400v160ZM180-400h160v-160H180v160Zm440 0h160v-160H620v160ZM180-180h160v-160H180v160Zm440 0h160v-160H620v160Z\"/>\n",
              "  </svg>\n",
              "    </button>\n",
              "\n",
              "  <style>\n",
              "    .colab-df-container {\n",
              "      display:flex;\n",
              "      gap: 12px;\n",
              "    }\n",
              "\n",
              "    .colab-df-convert {\n",
              "      background-color: #E8F0FE;\n",
              "      border: none;\n",
              "      border-radius: 50%;\n",
              "      cursor: pointer;\n",
              "      display: none;\n",
              "      fill: #1967D2;\n",
              "      height: 32px;\n",
              "      padding: 0 0 0 0;\n",
              "      width: 32px;\n",
              "    }\n",
              "\n",
              "    .colab-df-convert:hover {\n",
              "      background-color: #E2EBFA;\n",
              "      box-shadow: 0px 1px 2px rgba(60, 64, 67, 0.3), 0px 1px 3px 1px rgba(60, 64, 67, 0.15);\n",
              "      fill: #174EA6;\n",
              "    }\n",
              "\n",
              "    .colab-df-buttons div {\n",
              "      margin-bottom: 4px;\n",
              "    }\n",
              "\n",
              "    [theme=dark] .colab-df-convert {\n",
              "      background-color: #3B4455;\n",
              "      fill: #D2E3FC;\n",
              "    }\n",
              "\n",
              "    [theme=dark] .colab-df-convert:hover {\n",
              "      background-color: #434B5C;\n",
              "      box-shadow: 0px 1px 3px 1px rgba(0, 0, 0, 0.15);\n",
              "      filter: drop-shadow(0px 1px 2px rgba(0, 0, 0, 0.3));\n",
              "      fill: #FFFFFF;\n",
              "    }\n",
              "  </style>\n",
              "\n",
              "    <script>\n",
              "      const buttonEl =\n",
              "        document.querySelector('#df-b336bbdf-27e3-45c0-8b9f-21625ad39b8e button.colab-df-convert');\n",
              "      buttonEl.style.display =\n",
              "        google.colab.kernel.accessAllowed ? 'block' : 'none';\n",
              "\n",
              "      async function convertToInteractive(key) {\n",
              "        const element = document.querySelector('#df-b336bbdf-27e3-45c0-8b9f-21625ad39b8e');\n",
              "        const dataTable =\n",
              "          await google.colab.kernel.invokeFunction('convertToInteractive',\n",
              "                                                    [key], {});\n",
              "        if (!dataTable) return;\n",
              "\n",
              "        const docLinkHtml = 'Like what you see? Visit the ' +\n",
              "          '<a target=\"_blank\" href=https://colab.research.google.com/notebooks/data_table.ipynb>data table notebook</a>'\n",
              "          + ' to learn more about interactive tables.';\n",
              "        element.innerHTML = '';\n",
              "        dataTable['output_type'] = 'display_data';\n",
              "        await google.colab.output.renderOutput(dataTable, element);\n",
              "        const docLink = document.createElement('div');\n",
              "        docLink.innerHTML = docLinkHtml;\n",
              "        element.appendChild(docLink);\n",
              "      }\n",
              "    </script>\n",
              "  </div>\n",
              "\n",
              "\n",
              "<div id=\"df-c7efd66f-2101-495c-bf67-319ccbf6b15f\">\n",
              "  <button class=\"colab-df-quickchart\" onclick=\"quickchart('df-c7efd66f-2101-495c-bf67-319ccbf6b15f')\"\n",
              "            title=\"Suggest charts\"\n",
              "            style=\"display:none;\">\n",
              "\n",
              "<svg xmlns=\"http://www.w3.org/2000/svg\" height=\"24px\"viewBox=\"0 0 24 24\"\n",
              "     width=\"24px\">\n",
              "    <g>\n",
              "        <path d=\"M19 3H5c-1.1 0-2 .9-2 2v14c0 1.1.9 2 2 2h14c1.1 0 2-.9 2-2V5c0-1.1-.9-2-2-2zM9 17H7v-7h2v7zm4 0h-2V7h2v10zm4 0h-2v-4h2v4z\"/>\n",
              "    </g>\n",
              "</svg>\n",
              "  </button>\n",
              "\n",
              "<style>\n",
              "  .colab-df-quickchart {\n",
              "      --bg-color: #E8F0FE;\n",
              "      --fill-color: #1967D2;\n",
              "      --hover-bg-color: #E2EBFA;\n",
              "      --hover-fill-color: #174EA6;\n",
              "      --disabled-fill-color: #AAA;\n",
              "      --disabled-bg-color: #DDD;\n",
              "  }\n",
              "\n",
              "  [theme=dark] .colab-df-quickchart {\n",
              "      --bg-color: #3B4455;\n",
              "      --fill-color: #D2E3FC;\n",
              "      --hover-bg-color: #434B5C;\n",
              "      --hover-fill-color: #FFFFFF;\n",
              "      --disabled-bg-color: #3B4455;\n",
              "      --disabled-fill-color: #666;\n",
              "  }\n",
              "\n",
              "  .colab-df-quickchart {\n",
              "    background-color: var(--bg-color);\n",
              "    border: none;\n",
              "    border-radius: 50%;\n",
              "    cursor: pointer;\n",
              "    display: none;\n",
              "    fill: var(--fill-color);\n",
              "    height: 32px;\n",
              "    padding: 0;\n",
              "    width: 32px;\n",
              "  }\n",
              "\n",
              "  .colab-df-quickchart:hover {\n",
              "    background-color: var(--hover-bg-color);\n",
              "    box-shadow: 0 1px 2px rgba(60, 64, 67, 0.3), 0 1px 3px 1px rgba(60, 64, 67, 0.15);\n",
              "    fill: var(--button-hover-fill-color);\n",
              "  }\n",
              "\n",
              "  .colab-df-quickchart-complete:disabled,\n",
              "  .colab-df-quickchart-complete:disabled:hover {\n",
              "    background-color: var(--disabled-bg-color);\n",
              "    fill: var(--disabled-fill-color);\n",
              "    box-shadow: none;\n",
              "  }\n",
              "\n",
              "  .colab-df-spinner {\n",
              "    border: 2px solid var(--fill-color);\n",
              "    border-color: transparent;\n",
              "    border-bottom-color: var(--fill-color);\n",
              "    animation:\n",
              "      spin 1s steps(1) infinite;\n",
              "  }\n",
              "\n",
              "  @keyframes spin {\n",
              "    0% {\n",
              "      border-color: transparent;\n",
              "      border-bottom-color: var(--fill-color);\n",
              "      border-left-color: var(--fill-color);\n",
              "    }\n",
              "    20% {\n",
              "      border-color: transparent;\n",
              "      border-left-color: var(--fill-color);\n",
              "      border-top-color: var(--fill-color);\n",
              "    }\n",
              "    30% {\n",
              "      border-color: transparent;\n",
              "      border-left-color: var(--fill-color);\n",
              "      border-top-color: var(--fill-color);\n",
              "      border-right-color: var(--fill-color);\n",
              "    }\n",
              "    40% {\n",
              "      border-color: transparent;\n",
              "      border-right-color: var(--fill-color);\n",
              "      border-top-color: var(--fill-color);\n",
              "    }\n",
              "    60% {\n",
              "      border-color: transparent;\n",
              "      border-right-color: var(--fill-color);\n",
              "    }\n",
              "    80% {\n",
              "      border-color: transparent;\n",
              "      border-right-color: var(--fill-color);\n",
              "      border-bottom-color: var(--fill-color);\n",
              "    }\n",
              "    90% {\n",
              "      border-color: transparent;\n",
              "      border-bottom-color: var(--fill-color);\n",
              "    }\n",
              "  }\n",
              "</style>\n",
              "\n",
              "  <script>\n",
              "    async function quickchart(key) {\n",
              "      const quickchartButtonEl =\n",
              "        document.querySelector('#' + key + ' button');\n",
              "      quickchartButtonEl.disabled = true;  // To prevent multiple clicks.\n",
              "      quickchartButtonEl.classList.add('colab-df-spinner');\n",
              "      try {\n",
              "        const charts = await google.colab.kernel.invokeFunction(\n",
              "            'suggestCharts', [key], {});\n",
              "      } catch (error) {\n",
              "        console.error('Error during call to suggestCharts:', error);\n",
              "      }\n",
              "      quickchartButtonEl.classList.remove('colab-df-spinner');\n",
              "      quickchartButtonEl.classList.add('colab-df-quickchart-complete');\n",
              "    }\n",
              "    (() => {\n",
              "      let quickchartButtonEl =\n",
              "        document.querySelector('#df-c7efd66f-2101-495c-bf67-319ccbf6b15f button');\n",
              "      quickchartButtonEl.style.display =\n",
              "        google.colab.kernel.accessAllowed ? 'block' : 'none';\n",
              "    })();\n",
              "  </script>\n",
              "</div>\n",
              "\n",
              "  <div id=\"id_e80b1531-c938-400c-923a-0fbd265439a4\">\n",
              "    <style>\n",
              "      .colab-df-generate {\n",
              "        background-color: #E8F0FE;\n",
              "        border: none;\n",
              "        border-radius: 50%;\n",
              "        cursor: pointer;\n",
              "        display: none;\n",
              "        fill: #1967D2;\n",
              "        height: 32px;\n",
              "        padding: 0 0 0 0;\n",
              "        width: 32px;\n",
              "      }\n",
              "\n",
              "      .colab-df-generate:hover {\n",
              "        background-color: #E2EBFA;\n",
              "        box-shadow: 0px 1px 2px rgba(60, 64, 67, 0.3), 0px 1px 3px 1px rgba(60, 64, 67, 0.15);\n",
              "        fill: #174EA6;\n",
              "      }\n",
              "\n",
              "      [theme=dark] .colab-df-generate {\n",
              "        background-color: #3B4455;\n",
              "        fill: #D2E3FC;\n",
              "      }\n",
              "\n",
              "      [theme=dark] .colab-df-generate:hover {\n",
              "        background-color: #434B5C;\n",
              "        box-shadow: 0px 1px 3px 1px rgba(0, 0, 0, 0.15);\n",
              "        filter: drop-shadow(0px 1px 2px rgba(0, 0, 0, 0.3));\n",
              "        fill: #FFFFFF;\n",
              "      }\n",
              "    </style>\n",
              "    <button class=\"colab-df-generate\" onclick=\"generateWithVariable('mi_df')\"\n",
              "            title=\"Generate code using this dataframe.\"\n",
              "            style=\"display:none;\">\n",
              "\n",
              "  <svg xmlns=\"http://www.w3.org/2000/svg\" height=\"24px\"viewBox=\"0 0 24 24\"\n",
              "       width=\"24px\">\n",
              "    <path d=\"M7,19H8.4L18.45,9,17,7.55,7,17.6ZM5,21V16.75L18.45,3.32a2,2,0,0,1,2.83,0l1.4,1.43a1.91,1.91,0,0,1,.58,1.4,1.91,1.91,0,0,1-.58,1.4L9.25,21ZM18.45,9,17,7.55Zm-12,3A5.31,5.31,0,0,0,4.9,8.1,5.31,5.31,0,0,0,1,6.5,5.31,5.31,0,0,0,4.9,4.9,5.31,5.31,0,0,0,6.5,1,5.31,5.31,0,0,0,8.1,4.9,5.31,5.31,0,0,0,12,6.5,5.46,5.46,0,0,0,6.5,12Z\"/>\n",
              "  </svg>\n",
              "    </button>\n",
              "    <script>\n",
              "      (() => {\n",
              "      const buttonEl =\n",
              "        document.querySelector('#id_e80b1531-c938-400c-923a-0fbd265439a4 button.colab-df-generate');\n",
              "      buttonEl.style.display =\n",
              "        google.colab.kernel.accessAllowed ? 'block' : 'none';\n",
              "\n",
              "      buttonEl.onclick = () => {\n",
              "        google.colab.notebook.generateWithVariable('mi_df');\n",
              "      }\n",
              "      })();\n",
              "    </script>\n",
              "  </div>\n",
              "\n",
              "    </div>\n",
              "  </div>\n"
            ],
            "application/vnd.google.colaboratory.intrinsic+json": {
              "type": "dataframe",
              "variable_name": "mi_df",
              "summary": "{\n  \"name\": \"mi_df\",\n  \"rows\": 9,\n  \"fields\": [\n    {\n      \"column\": \"Feature\",\n      \"properties\": {\n        \"dtype\": \"string\",\n        \"num_unique_values\": 9,\n        \"samples\": [\n          \"PM10\",\n          \"Proximity_to_Industrial_Areas\",\n          \"Population_Density\"\n        ],\n        \"semantic_type\": \"\",\n        \"description\": \"\"\n      }\n    },\n    {\n      \"column\": \"MI_Score\",\n      \"properties\": {\n        \"dtype\": \"number\",\n        \"std\": 0.245600362078705,\n        \"min\": 0.12062614796276705,\n        \"max\": 0.8920752308513991,\n        \"num_unique_values\": 9,\n        \"samples\": [\n          0.24869613712061334,\n          0.7597458267921462,\n          0.32641135538018307\n        ],\n        \"semantic_type\": \"\",\n        \"description\": \"\"\n      }\n    }\n  ]\n}"
            }
          },
          "metadata": {},
          "execution_count": 62
        }
      ]
    },
    {
      "cell_type": "markdown",
      "source": [
        "CO memiliki MI Score tertinggi (0.892075), yang berarti bahwa fitur ini sangat berhubungan dengan target dan memiliki banyak informasi yang relevan.\n",
        "\n",
        "Proximity_to_Industrial_Areas (0.759746) juga menunjukkan hubungan yang cukup kuat dengan target.\n",
        "\n",
        "NO2, SO2, dan Temperature memiliki MI yang lebih rendah, tetapi masih penting dalam model.\n",
        "\n",
        "PM10 dan PM2.5 memiliki MI yang lebih rendah, yang menunjukkan bahwa fitur ini kurang relevan dalam memprediksi target dibandingkan fitur lainnya."
      ],
      "metadata": {
        "id": "XAlsg619vmth"
      }
    },
    {
      "cell_type": "markdown",
      "source": [
        "# Split Data"
      ],
      "metadata": {
        "id": "E91_BPSTvuKw"
      }
    },
    {
      "cell_type": "code",
      "source": [
        "from sklearn.model_selection import train_test_split\n",
        "\n",
        "X_train, X_test, y_train, y_test = train_test_split(X[mi_df[mi_df['MI_Score'] > 0.1]['Feature'].values], y, test_size=0.25, random_state=42)"
      ],
      "metadata": {
        "id": "krfWD5gUvVur"
      },
      "execution_count": 63,
      "outputs": []
    },
    {
      "cell_type": "markdown",
      "source": [
        "# Modeling dan Evaluasi"
      ],
      "metadata": {
        "id": "FtIvAmNqv7Jn"
      }
    },
    {
      "cell_type": "code",
      "source": [
        "from sklearn.metrics import classification_report\n",
        "\n",
        "def evaluate_model(model):\n",
        "\n",
        "    model.fit(X_train, y_train)\n",
        "\n",
        "    y_pred_train = model.predict(X_train)\n",
        "    y_pred_test = model.predict(X_test)\n",
        "\n",
        "    print('Train Dataset:')\n",
        "    print(classification_report(y_train, y_pred_train))\n",
        "    print('Test Dataset:')\n",
        "    print(classification_report(y_test, y_pred_test))"
      ],
      "metadata": {
        "id": "Q3BhqQTuwFPi"
      },
      "execution_count": 72,
      "outputs": []
    },
    {
      "cell_type": "code",
      "source": [
        "from sklearn.tree import DecisionTreeClassifier\n",
        "decision = DecisionTreeClassifier()\n",
        "evaluate_model(decision)"
      ],
      "metadata": {
        "colab": {
          "base_uri": "https://localhost:8080/"
        },
        "id": "uLpXugO7vxkP",
        "outputId": "158f1594-cd6a-48de-8d76-091d46ef998e"
      },
      "execution_count": 73,
      "outputs": [
        {
          "output_type": "stream",
          "name": "stdout",
          "text": [
            "Train Dataset:\n",
            "              precision    recall  f1-score   support\n",
            "\n",
            "        Good       1.00      1.00      1.00      1492\n",
            "   Hazardous       1.00      1.00      1.00       368\n",
            "    Moderate       1.00      1.00      1.00      1119\n",
            "        Poor       1.00      1.00      1.00       771\n",
            "\n",
            "    accuracy                           1.00      3750\n",
            "   macro avg       1.00      1.00      1.00      3750\n",
            "weighted avg       1.00      1.00      1.00      3750\n",
            "\n",
            "Test Dataset:\n",
            "              precision    recall  f1-score   support\n",
            "\n",
            "        Good       0.99      0.99      0.99       508\n",
            "   Hazardous       0.78      0.77      0.77       132\n",
            "    Moderate       0.95      0.91      0.93       381\n",
            "        Poor       0.75      0.80      0.77       229\n",
            "\n",
            "    accuracy                           0.91      1250\n",
            "   macro avg       0.87      0.87      0.87      1250\n",
            "weighted avg       0.91      0.91      0.91      1250\n",
            "\n"
          ]
        }
      ]
    },
    {
      "cell_type": "code",
      "source": [
        "from sklearn.metrics import confusion_matrix\n",
        "y_pred = decision.predict(X_test)\n",
        "cm = confusion_matrix(y_test, y_pred)\n",
        "sns.heatmap(cm, annot=True, fmt='d', cmap='Blues')\n",
        "plt.title('Confusion Matrix')\n",
        "plt.xlabel('Predicted Labels')\n",
        "plt.ylabel('True Labels')"
      ],
      "metadata": {
        "colab": {
          "base_uri": "https://localhost:8080/",
          "height": 489
        },
        "id": "adbDgIuJwVCh",
        "outputId": "c5992984-b0b3-429f-ffd6-2683f57e8a79"
      },
      "execution_count": 76,
      "outputs": [
        {
          "output_type": "execute_result",
          "data": {
            "text/plain": [
              "Text(50.722222222222214, 0.5, 'True Labels')"
            ]
          },
          "metadata": {},
          "execution_count": 76
        },
        {
          "output_type": "display_data",
          "data": {
            "text/plain": [
              "<Figure size 640x480 with 2 Axes>"
            ],
            "image/png": "[encoded data removed]"
          },
          "metadata": {}
        }
      ]
    },
    {
      "cell_type": "markdown",
      "source": [
        "Sumbu Vertikal (True Labels): Mewakili label sebenarnya dari data (y_test).\n",
        "\n",
        "Sumbu Horizontal (Predicted Labels): Mewakili label yang diprediksi oleh model (y_pred_test).\n",
        "\n",
        "Model menunjukkan performa yang sangat baik dalam memprediksi kelas dengan akurasi yang tinggi, terutama pada kelas-kelas yang paling dominan. Sebagai contoh, pada kelas 0 (505 prediksi benar), kelas 1 (101 prediksi benar), dan kelas 2 (347 prediksi benar), model menunjukkan banyak prediksi yang tepat.\n",
        "\n",
        "Kelas 3 menunjukkan lebih banyak kesalahan prediksi dibandingkan kelas lainnya. Meskipun ada 184 prediksi yang benar, ada 29 data kelas 3 yang salah diprediksi sebagai kelas 1, dan 16 data kelas 3 yang diprediksi sebagai kelas 2. Ini menunjukkan bahwa model kesulitan membedakan kelas 3 dari kelas lainnya.\n",
        "\n",
        "Kelas 1 dan kelas 3 saling terprediksi dengan kesalahan. Ada 31 data kelas 1 yang diprediksi sebagai kelas 3, dan ada 29 data kelas 3 yang diprediksi sebagai kelas 1. Ini menunjukkan bahwa ada kebingungannya di antara kelas 1 dan 3, mungkin karena kedekatan atau kesamaan fitur antara kedua kelas tersebut.\n",
        "\n",
        "Model sangat baik dalam mengidentifikasi kelas 0 dan kelas 2, karena angka pada diagonal utama (505 dan 347) sangat tinggi, menunjukkan tingkat prediksi yang akurat.\n",
        "\n",
        "Secara keseluruhan, confusion matrix ini menunjukkan bahwa model telah berhasil memprediksi sebagian besar data dengan akurat, tetapi masih ada ruang untuk meningkatkan prediksi pada beberapa kelas, khususnya kelas 3."
      ],
      "metadata": {
        "id": "X7HJqUPcxwOl"
      }
    }
  ]
}